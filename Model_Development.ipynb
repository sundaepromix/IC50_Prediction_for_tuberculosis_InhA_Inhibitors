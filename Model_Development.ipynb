{
 "cells": [
  {
   "cell_type": "markdown",
   "id": "2a7d924b-748e-4d3e-9fdc-19a2a1cf65fa",
   "metadata": {},
   "source": [
    "## The Support Vector Regression (SVR), XGBOOST, and Random Forest will be used for this project."
   ]
  },
  {
   "cell_type": "code",
   "execution_count": 1,
   "id": "1db01f78-ecd4-44ee-8bf7-a47cb43150ef",
   "metadata": {},
   "outputs": [],
   "source": [
    "import pandas as pd\n",
    "import numpy as np"
   ]
  },
  {
   "cell_type": "code",
   "execution_count": 2,
   "id": "c7f9d650-1175-40dd-aa68-956048fbb036",
   "metadata": {},
   "outputs": [],
   "source": [
    "# Data Preparation\n",
    "final_df = pd.read_csv('final_df.csv')"
   ]
  },
  {
   "cell_type": "code",
   "execution_count": 3,
   "id": "f22c5d84-8b28-448f-95b8-924828fea4b6",
   "metadata": {},
   "outputs": [],
   "source": [
    "# Remove irrelevant columns for modeling\n",
    "feature_columns = ['MW', 'LogP', 'TPSA', 'HBA', 'HBD', 'RotBonds'] + [col for col in final_df.columns if 'bit_' in col]\n",
    "X = final_df[feature_columns]  # Features\n",
    "y = final_df['pic50'] "
   ]
  },
  {
   "cell_type": "code",
   "execution_count": 4,
   "id": "cc27c48e-8162-4cae-aefd-88b457010350",
   "metadata": {},
   "outputs": [],
   "source": [
    "# Model Development\n",
    "from sklearn.ensemble import RandomForestRegressor, GradientBoostingRegressor\n",
    "from sklearn.svm import SVR\n",
    "from sklearn.metrics import r2_score, mean_squared_error, mean_absolute_error\n",
    "from sklearn.model_selection import cross_val_score\n",
    "from sklearn.model_selection import train_test_split\n",
    "from sklearn.preprocessing import StandardScaler\n",
    "from xgboost import XGBRegressor"
   ]
  },
  {
   "cell_type": "code",
   "execution_count": 5,
   "id": "9db21ab0-9be4-4085-a28a-71b7e5549d4c",
   "metadata": {},
   "outputs": [],
   "source": [
    "# Split data\n",
    "X_train, X_test, y_train, y_test = train_test_split(X, y, test_size=0.2, random_state=42)"
   ]
  },
  {
   "cell_type": "code",
   "execution_count": 6,
   "id": "37e470a5-f49a-4904-a299-d404d91ab6d3",
   "metadata": {},
   "outputs": [],
   "source": [
    "# Scale features\n",
    "scaler = StandardScaler()\n",
    "X_train_scaled = scaler.fit_transform(X_train)\n",
    "X_test_scaled = scaler.transform(X_test)"
   ]
  },
  {
   "cell_type": "markdown",
   "id": "aee5885f-f502-4df5-a968-ab539c9ec32d",
   "metadata": {},
   "source": [
    "#### Model Development with Cross-validation"
   ]
  },
  {
   "cell_type": "code",
   "execution_count": 7,
   "id": "ab257d33-26f6-4fb4-9acc-0c65e5a1757a",
   "metadata": {},
   "outputs": [],
   "source": [
    "models = {\n",
    "    'Random Forest': RandomForestRegressor(random_state=42),\n",
    "    'XGBoost': XGBRegressor(random_state=42),\n",
    "    'SVR': SVR(kernel='rbf')\n",
    "}\n",
    "\n",
    "results = {}\n",
    "for name, model in models.items():\n",
    "    # 5-fold cross-validation\n",
    "    cv_scores = cross_val_score(model, X_train_scaled, y_train, cv=5, scoring='r2')\n",
    "    \n",
    "    # Train model\n",
    "    model.fit(X_train_scaled, y_train)\n",
    "    y_pred = model.predict(X_test_scaled)\n",
    "    \n",
    "    # Calculate metrics\n",
    "    r2 = r2_score(y_test, y_pred)\n",
    "    rmse = np.sqrt(mean_squared_error(y_test, y_pred))\n",
    "    mae = mean_absolute_error(y_test, y_pred)\n",
    "    \n",
    "    results[name] = {\n",
    "        'CV_R2_mean': cv_scores.mean(),\n",
    "        'CV_R2_std': cv_scores.std(),\n",
    "        'Test_R2': r2,\n",
    "        'RMSE': rmse,\n",
    "        'MAE': mae\n",
    "    }"
   ]
  },
  {
   "cell_type": "code",
   "execution_count": 8,
   "id": "44ca4efa-2b0b-4bc3-9532-43f7d468cc17",
   "metadata": {},
   "outputs": [
    {
     "name": "stdout",
     "output_type": "stream",
     "text": [
      "\n",
      "Random Forest Results:\n",
      "CV_R2_mean: 0.347\n",
      "CV_R2_std: 0.053\n",
      "Test_R2: 0.040\n",
      "RMSE: 1.201\n",
      "MAE: 0.677\n",
      "\n",
      "XGBoost Results:\n",
      "CV_R2_mean: 0.169\n",
      "CV_R2_std: 0.082\n",
      "Test_R2: -0.450\n",
      "RMSE: 1.476\n",
      "MAE: 0.838\n",
      "\n",
      "SVR Results:\n",
      "CV_R2_mean: 0.375\n",
      "CV_R2_std: 0.062\n",
      "Test_R2: 0.295\n",
      "RMSE: 1.029\n",
      "MAE: 0.634\n"
     ]
    }
   ],
   "source": [
    "# Print results\n",
    "for model_name, metrics in results.items():\n",
    "    print(f\"\\n{model_name} Results:\")\n",
    "    for metric_name, value in metrics.items():\n",
    "        print(f\"{metric_name}: {value:.3f}\")"
   ]
  },
  {
   "cell_type": "markdown",
   "id": "00d54040-895c-4c6b-83b5-e5ba1bab677e",
   "metadata": {},
   "source": [
    "#### Hyperparameter Tuning for Random Forest"
   ]
  },
  {
   "cell_type": "code",
   "execution_count": 9,
   "id": "82c623f0-7f1b-4880-b466-a0be2d30c8c3",
   "metadata": {},
   "outputs": [],
   "source": [
    "from sklearn.model_selection import GridSearchCV"
   ]
  },
  {
   "cell_type": "code",
   "execution_count": 10,
   "id": "f7dfe42c-67e0-45d1-8646-a0b109140fc4",
   "metadata": {},
   "outputs": [
    {
     "name": "stdout",
     "output_type": "stream",
     "text": [
      "Fitting 5 folds for each of 96 candidates, totalling 480 fits\n"
     ]
    },
    {
     "data": {
      "text/html": [
       "<style>#sk-container-id-1 {color: black;}#sk-container-id-1 pre{padding: 0;}#sk-container-id-1 div.sk-toggleable {background-color: white;}#sk-container-id-1 label.sk-toggleable__label {cursor: pointer;display: block;width: 100%;margin-bottom: 0;padding: 0.3em;box-sizing: border-box;text-align: center;}#sk-container-id-1 label.sk-toggleable__label-arrow:before {content: \"▸\";float: left;margin-right: 0.25em;color: #696969;}#sk-container-id-1 label.sk-toggleable__label-arrow:hover:before {color: black;}#sk-container-id-1 div.sk-estimator:hover label.sk-toggleable__label-arrow:before {color: black;}#sk-container-id-1 div.sk-toggleable__content {max-height: 0;max-width: 0;overflow: hidden;text-align: left;background-color: #f0f8ff;}#sk-container-id-1 div.sk-toggleable__content pre {margin: 0.2em;color: black;border-radius: 0.25em;background-color: #f0f8ff;}#sk-container-id-1 input.sk-toggleable__control:checked~div.sk-toggleable__content {max-height: 200px;max-width: 100%;overflow: auto;}#sk-container-id-1 input.sk-toggleable__control:checked~label.sk-toggleable__label-arrow:before {content: \"▾\";}#sk-container-id-1 div.sk-estimator input.sk-toggleable__control:checked~label.sk-toggleable__label {background-color: #d4ebff;}#sk-container-id-1 div.sk-label input.sk-toggleable__control:checked~label.sk-toggleable__label {background-color: #d4ebff;}#sk-container-id-1 input.sk-hidden--visually {border: 0;clip: rect(1px 1px 1px 1px);clip: rect(1px, 1px, 1px, 1px);height: 1px;margin: -1px;overflow: hidden;padding: 0;position: absolute;width: 1px;}#sk-container-id-1 div.sk-estimator {font-family: monospace;background-color: #f0f8ff;border: 1px dotted black;border-radius: 0.25em;box-sizing: border-box;margin-bottom: 0.5em;}#sk-container-id-1 div.sk-estimator:hover {background-color: #d4ebff;}#sk-container-id-1 div.sk-parallel-item::after {content: \"\";width: 100%;border-bottom: 1px solid gray;flex-grow: 1;}#sk-container-id-1 div.sk-label:hover label.sk-toggleable__label {background-color: #d4ebff;}#sk-container-id-1 div.sk-serial::before {content: \"\";position: absolute;border-left: 1px solid gray;box-sizing: border-box;top: 0;bottom: 0;left: 50%;z-index: 0;}#sk-container-id-1 div.sk-serial {display: flex;flex-direction: column;align-items: center;background-color: white;padding-right: 0.2em;padding-left: 0.2em;position: relative;}#sk-container-id-1 div.sk-item {position: relative;z-index: 1;}#sk-container-id-1 div.sk-parallel {display: flex;align-items: stretch;justify-content: center;background-color: white;position: relative;}#sk-container-id-1 div.sk-item::before, #sk-container-id-1 div.sk-parallel-item::before {content: \"\";position: absolute;border-left: 1px solid gray;box-sizing: border-box;top: 0;bottom: 0;left: 50%;z-index: -1;}#sk-container-id-1 div.sk-parallel-item {display: flex;flex-direction: column;z-index: 1;position: relative;background-color: white;}#sk-container-id-1 div.sk-parallel-item:first-child::after {align-self: flex-end;width: 50%;}#sk-container-id-1 div.sk-parallel-item:last-child::after {align-self: flex-start;width: 50%;}#sk-container-id-1 div.sk-parallel-item:only-child::after {width: 0;}#sk-container-id-1 div.sk-dashed-wrapped {border: 1px dashed gray;margin: 0 0.4em 0.5em 0.4em;box-sizing: border-box;padding-bottom: 0.4em;background-color: white;}#sk-container-id-1 div.sk-label label {font-family: monospace;font-weight: bold;display: inline-block;line-height: 1.2em;}#sk-container-id-1 div.sk-label-container {text-align: center;}#sk-container-id-1 div.sk-container {/* jupyter's `normalize.less` sets `[hidden] { display: none; }` but bootstrap.min.css set `[hidden] { display: none !important; }` so we also need the `!important` here to be able to override the default hidden behavior on the sphinx rendered scikit-learn.org. See: https://github.com/scikit-learn/scikit-learn/issues/21755 */display: inline-block !important;position: relative;}#sk-container-id-1 div.sk-text-repr-fallback {display: none;}</style><div id=\"sk-container-id-1\" class=\"sk-top-container\"><div class=\"sk-text-repr-fallback\"><pre>GridSearchCV(cv=5, estimator=SVR(), n_jobs=-1,\n",
       "             param_grid={&#x27;C&#x27;: [0.1, 1, 10, 100], &#x27;epsilon&#x27;: [0.1, 0.01, 0.001],\n",
       "                         &#x27;gamma&#x27;: [&#x27;scale&#x27;, &#x27;auto&#x27;, 0.1, 0.01],\n",
       "                         &#x27;kernel&#x27;: [&#x27;rbf&#x27;, &#x27;linear&#x27;]},\n",
       "             scoring=&#x27;r2&#x27;, verbose=1)</pre><b>In a Jupyter environment, please rerun this cell to show the HTML representation or trust the notebook. <br />On GitHub, the HTML representation is unable to render, please try loading this page with nbviewer.org.</b></div><div class=\"sk-container\" hidden><div class=\"sk-item sk-dashed-wrapped\"><div class=\"sk-label-container\"><div class=\"sk-label sk-toggleable\"><input class=\"sk-toggleable__control sk-hidden--visually\" id=\"sk-estimator-id-1\" type=\"checkbox\" ><label for=\"sk-estimator-id-1\" class=\"sk-toggleable__label sk-toggleable__label-arrow\">GridSearchCV</label><div class=\"sk-toggleable__content\"><pre>GridSearchCV(cv=5, estimator=SVR(), n_jobs=-1,\n",
       "             param_grid={&#x27;C&#x27;: [0.1, 1, 10, 100], &#x27;epsilon&#x27;: [0.1, 0.01, 0.001],\n",
       "                         &#x27;gamma&#x27;: [&#x27;scale&#x27;, &#x27;auto&#x27;, 0.1, 0.01],\n",
       "                         &#x27;kernel&#x27;: [&#x27;rbf&#x27;, &#x27;linear&#x27;]},\n",
       "             scoring=&#x27;r2&#x27;, verbose=1)</pre></div></div></div><div class=\"sk-parallel\"><div class=\"sk-parallel-item\"><div class=\"sk-item\"><div class=\"sk-label-container\"><div class=\"sk-label sk-toggleable\"><input class=\"sk-toggleable__control sk-hidden--visually\" id=\"sk-estimator-id-2\" type=\"checkbox\" ><label for=\"sk-estimator-id-2\" class=\"sk-toggleable__label sk-toggleable__label-arrow\">estimator: SVR</label><div class=\"sk-toggleable__content\"><pre>SVR()</pre></div></div></div><div class=\"sk-serial\"><div class=\"sk-item\"><div class=\"sk-estimator sk-toggleable\"><input class=\"sk-toggleable__control sk-hidden--visually\" id=\"sk-estimator-id-3\" type=\"checkbox\" ><label for=\"sk-estimator-id-3\" class=\"sk-toggleable__label sk-toggleable__label-arrow\">SVR</label><div class=\"sk-toggleable__content\"><pre>SVR()</pre></div></div></div></div></div></div></div></div></div></div>"
      ],
      "text/plain": [
       "GridSearchCV(cv=5, estimator=SVR(), n_jobs=-1,\n",
       "             param_grid={'C': [0.1, 1, 10, 100], 'epsilon': [0.1, 0.01, 0.001],\n",
       "                         'gamma': ['scale', 'auto', 0.1, 0.01],\n",
       "                         'kernel': ['rbf', 'linear']},\n",
       "             scoring='r2', verbose=1)"
      ]
     },
     "execution_count": 10,
     "metadata": {},
     "output_type": "execute_result"
    }
   ],
   "source": [
    "param_grid_svr = {\n",
    "    'kernel': ['rbf', 'linear'],\n",
    "    'C': [0.1, 1, 10, 100],\n",
    "    'gamma': ['scale', 'auto', 0.1, 0.01],\n",
    "    'epsilon': [0.1, 0.01, 0.001]\n",
    "}\n",
    "\n",
    "# Grid search with cross-validation\n",
    "svr_grid = GridSearchCV(\n",
    "    SVR(),\n",
    "    param_grid_svr,\n",
    "    cv=5,\n",
    "    scoring='r2',\n",
    "    n_jobs=-1,\n",
    "    verbose=1\n",
    ")\n",
    "\n",
    "svr_grid.fit(X_train_scaled, y_train)"
   ]
  },
  {
   "cell_type": "code",
   "execution_count": 11,
   "id": "a7cc0a5f-a501-4071-b325-56941070a31f",
   "metadata": {},
   "outputs": [
    {
     "name": "stdout",
     "output_type": "stream",
     "text": [
      "Best parameters: {'C': 1, 'epsilon': 0.001, 'gamma': 'auto', 'kernel': 'rbf'}\n",
      "Best CV R²: 0.3914456480150597\n"
     ]
    }
   ],
   "source": [
    "print(\"Best parameters:\", svr_grid.best_params_)\n",
    "print(\"Best CV R²:\", svr_grid.best_score_)"
   ]
  },
  {
   "cell_type": "code",
   "execution_count": 12,
   "id": "56b9f942-4ece-47a6-91bb-913e124c0409",
   "metadata": {},
   "outputs": [
    {
     "name": "stdout",
     "output_type": "stream",
     "text": [
      "\n",
      "Test Set Results:\n",
      "R²: 0.31662785322045905\n",
      "RMSE: 1.0132499377589788\n",
      "MAE: 0.6157991003539014\n"
     ]
    }
   ],
   "source": [
    "# Evaluate on test set\n",
    "y_pred = svr_grid.predict(X_test_scaled)\n",
    "print(\"\\nTest Set Results:\")\n",
    "print(\"R²:\", r2_score(y_test, y_pred))\n",
    "print(\"RMSE:\", np.sqrt(mean_squared_error(y_test, y_pred)))\n",
    "print(\"MAE:\", mean_absolute_error(y_test, y_pred))"
   ]
  },
  {
   "cell_type": "code",
   "execution_count": null,
   "id": "0e66b94d-336c-4dfa-9da9-14a03ae54a4d",
   "metadata": {},
   "outputs": [],
   "source": []
  },
  {
   "cell_type": "code",
   "execution_count": 13,
   "id": "c86c3054-df95-44f2-b68e-c0fc159b3964",
   "metadata": {},
   "outputs": [
    {
     "name": "stdout",
     "output_type": "stream",
     "text": [
      "Components: 50, R²: 0.433\n",
      "Components: 100, R²: 0.394\n",
      "Components: 150, R²: 0.382\n",
      "Components: 200, R²: 0.374\n",
      "Components: 250, R²: 0.375\n"
     ]
    },
    {
     "data": {
      "image/png": "[encoded data removed]",
      "text/plain": [
       "<Figure size 1000x600 with 1 Axes>"
      ]
     },
     "metadata": {},
     "output_type": "display_data"
    },
    {
     "name": "stdout",
     "output_type": "stream",
     "text": [
      "\n",
      "Best PCA + SVR parameters: {'C': 1, 'gamma': 'scale', 'kernel': 'rbf'}\n",
      "Best CV score: 0.4334727664389152\n"
     ]
    },
    {
     "name": "stderr",
     "output_type": "stream",
     "text": [
      "C:\\Users\\Promise Sunday\\AppData\\Local\\Programs\\Python\\Python312\\Lib\\site-packages\\umap\\umap_.py:1952: UserWarning: n_jobs value 1 overridden to 1 by setting random_state. Use no seed for parallelism.\n",
      "  warn(\n"
     ]
    },
    {
     "name": "stdout",
     "output_type": "stream",
     "text": [
      "UMAP - n_neighbors: 5, min_dist: 0.1, R²: 0.379\n"
     ]
    },
    {
     "name": "stderr",
     "output_type": "stream",
     "text": [
      "C:\\Users\\Promise Sunday\\AppData\\Local\\Programs\\Python\\Python312\\Lib\\site-packages\\umap\\umap_.py:1952: UserWarning: n_jobs value 1 overridden to 1 by setting random_state. Use no seed for parallelism.\n",
      "  warn(\n"
     ]
    },
    {
     "name": "stdout",
     "output_type": "stream",
     "text": [
      "UMAP - n_neighbors: 5, min_dist: 0.25, R²: 0.392\n"
     ]
    },
    {
     "name": "stderr",
     "output_type": "stream",
     "text": [
      "C:\\Users\\Promise Sunday\\AppData\\Local\\Programs\\Python\\Python312\\Lib\\site-packages\\umap\\umap_.py:1952: UserWarning: n_jobs value 1 overridden to 1 by setting random_state. Use no seed for parallelism.\n",
      "  warn(\n"
     ]
    },
    {
     "name": "stdout",
     "output_type": "stream",
     "text": [
      "UMAP - n_neighbors: 5, min_dist: 0.5, R²: 0.391\n"
     ]
    },
    {
     "name": "stderr",
     "output_type": "stream",
     "text": [
      "C:\\Users\\Promise Sunday\\AppData\\Local\\Programs\\Python\\Python312\\Lib\\site-packages\\umap\\umap_.py:1952: UserWarning: n_jobs value 1 overridden to 1 by setting random_state. Use no seed for parallelism.\n",
      "  warn(\n"
     ]
    },
    {
     "name": "stdout",
     "output_type": "stream",
     "text": [
      "UMAP - n_neighbors: 10, min_dist: 0.1, R²: 0.351\n"
     ]
    },
    {
     "name": "stderr",
     "output_type": "stream",
     "text": [
      "C:\\Users\\Promise Sunday\\AppData\\Local\\Programs\\Python\\Python312\\Lib\\site-packages\\umap\\umap_.py:1952: UserWarning: n_jobs value 1 overridden to 1 by setting random_state. Use no seed for parallelism.\n",
      "  warn(\n"
     ]
    },
    {
     "name": "stdout",
     "output_type": "stream",
     "text": [
      "UMAP - n_neighbors: 10, min_dist: 0.25, R²: 0.332\n"
     ]
    },
    {
     "name": "stderr",
     "output_type": "stream",
     "text": [
      "C:\\Users\\Promise Sunday\\AppData\\Local\\Programs\\Python\\Python312\\Lib\\site-packages\\umap\\umap_.py:1952: UserWarning: n_jobs value 1 overridden to 1 by setting random_state. Use no seed for parallelism.\n",
      "  warn(\n"
     ]
    },
    {
     "name": "stdout",
     "output_type": "stream",
     "text": [
      "UMAP - n_neighbors: 10, min_dist: 0.5, R²: 0.336\n"
     ]
    },
    {
     "name": "stderr",
     "output_type": "stream",
     "text": [
      "C:\\Users\\Promise Sunday\\AppData\\Local\\Programs\\Python\\Python312\\Lib\\site-packages\\umap\\umap_.py:1952: UserWarning: n_jobs value 1 overridden to 1 by setting random_state. Use no seed for parallelism.\n",
      "  warn(\n"
     ]
    },
    {
     "name": "stdout",
     "output_type": "stream",
     "text": [
      "UMAP - n_neighbors: 15, min_dist: 0.1, R²: 0.330\n"
     ]
    },
    {
     "name": "stderr",
     "output_type": "stream",
     "text": [
      "C:\\Users\\Promise Sunday\\AppData\\Local\\Programs\\Python\\Python312\\Lib\\site-packages\\umap\\umap_.py:1952: UserWarning: n_jobs value 1 overridden to 1 by setting random_state. Use no seed for parallelism.\n",
      "  warn(\n"
     ]
    },
    {
     "name": "stdout",
     "output_type": "stream",
     "text": [
      "UMAP - n_neighbors: 15, min_dist: 0.25, R²: 0.333\n"
     ]
    },
    {
     "name": "stderr",
     "output_type": "stream",
     "text": [
      "C:\\Users\\Promise Sunday\\AppData\\Local\\Programs\\Python\\Python312\\Lib\\site-packages\\umap\\umap_.py:1952: UserWarning: n_jobs value 1 overridden to 1 by setting random_state. Use no seed for parallelism.\n",
      "  warn(\n"
     ]
    },
    {
     "name": "stdout",
     "output_type": "stream",
     "text": [
      "UMAP - n_neighbors: 15, min_dist: 0.5, R²: 0.336\n"
     ]
    },
    {
     "name": "stderr",
     "output_type": "stream",
     "text": [
      "C:\\Users\\Promise Sunday\\AppData\\Local\\Programs\\Python\\Python312\\Lib\\site-packages\\umap\\umap_.py:1952: UserWarning: n_jobs value 1 overridden to 1 by setting random_state. Use no seed for parallelism.\n",
      "  warn(\n"
     ]
    },
    {
     "name": "stdout",
     "output_type": "stream",
     "text": [
      "UMAP - n_neighbors: 20, min_dist: 0.1, R²: 0.326\n"
     ]
    },
    {
     "name": "stderr",
     "output_type": "stream",
     "text": [
      "C:\\Users\\Promise Sunday\\AppData\\Local\\Programs\\Python\\Python312\\Lib\\site-packages\\umap\\umap_.py:1952: UserWarning: n_jobs value 1 overridden to 1 by setting random_state. Use no seed for parallelism.\n",
      "  warn(\n"
     ]
    },
    {
     "name": "stdout",
     "output_type": "stream",
     "text": [
      "UMAP - n_neighbors: 20, min_dist: 0.25, R²: 0.346\n"
     ]
    },
    {
     "name": "stderr",
     "output_type": "stream",
     "text": [
      "C:\\Users\\Promise Sunday\\AppData\\Local\\Programs\\Python\\Python312\\Lib\\site-packages\\umap\\umap_.py:1952: UserWarning: n_jobs value 1 overridden to 1 by setting random_state. Use no seed for parallelism.\n",
      "  warn(\n"
     ]
    },
    {
     "name": "stdout",
     "output_type": "stream",
     "text": [
      "UMAP - n_neighbors: 20, min_dist: 0.5, R²: 0.349\n",
      "\n",
      "Best results for each method:\n",
      "PCA: R² = 0.433\n",
      "PCA + SVR (optimized): R² = 0.433\n",
      "UMAP: R² = 0.392\n"
     ]
    }
   ],
   "source": [
    "# 1. Fine-tune PCA components\n",
    "from sklearn.decomposition import PCA\n",
    "from sklearn.model_selection import cross_val_score\n",
    "import matplotlib.pyplot as plt\n",
    "\n",
    "# Try different numbers of components\n",
    "n_components_range = [50, 100, 150, 200, 250]\n",
    "pca_scores = []\n",
    "\n",
    "for n in n_components_range:\n",
    "    pca = PCA(n_components=n)\n",
    "    X_pca = pca.fit_transform(X_train_scaled)\n",
    "    score = cross_val_score(SVR(kernel='rbf'), X_pca, y_train, cv=5, scoring='r2').mean()\n",
    "    pca_scores.append(score)\n",
    "    print(f\"Components: {n}, R²: {score:.3f}\")\n",
    "\n",
    "# Plot PCA optimization\n",
    "plt.figure(figsize=(10, 6))\n",
    "plt.plot(n_components_range, pca_scores, marker='o')\n",
    "plt.xlabel('Number of PCA Components')\n",
    "plt.ylabel('Cross-validation R²')\n",
    "plt.title('PCA Components Optimization')\n",
    "plt.grid(True)\n",
    "plt.show()\n",
    "\n",
    "# 2. PCA + SVR optimization\n",
    "from sklearn.model_selection import GridSearchCV\n",
    "\n",
    "# Use best number of components from above\n",
    "best_n_components = n_components_range[np.argmax(pca_scores)]\n",
    "pca = PCA(n_components=best_n_components)\n",
    "X_pca = pca.fit_transform(X_train_scaled)\n",
    "\n",
    "# SVR parameter grid\n",
    "param_grid = {\n",
    "    'C': [0.1, 1, 10, 100],\n",
    "    'gamma': ['scale', 'auto', 0.1, 0.01],\n",
    "    'kernel': ['rbf', 'linear']\n",
    "}\n",
    "\n",
    "# Grid search with cross-validation\n",
    "grid_search = GridSearchCV(\n",
    "    SVR(),\n",
    "    param_grid,\n",
    "    cv=5,\n",
    "    scoring='r2',\n",
    "    n_jobs=-1\n",
    ")\n",
    "\n",
    "grid_search.fit(X_pca, y_train)\n",
    "print(\"\\nBest PCA + SVR parameters:\", grid_search.best_params_)\n",
    "print(\"Best CV score:\", grid_search.best_score_)\n",
    "\n",
    "# 3. Try UMAP\n",
    "import umap\n",
    "from sklearn.model_selection import cross_val_score\n",
    "\n",
    "# UMAP reduction\n",
    "n_neighbors_range = [5, 10, 15, 20]\n",
    "min_dist_range = [0.1, 0.25, 0.5]\n",
    "umap_scores = []\n",
    "\n",
    "for n_neighbors in n_neighbors_range:\n",
    "    for min_dist in min_dist_range:\n",
    "        reducer = umap.UMAP(n_neighbors=n_neighbors, \n",
    "                          min_dist=min_dist,\n",
    "                          n_components=50,\n",
    "                          random_state=42)\n",
    "        X_umap = reducer.fit_transform(X_train_scaled)\n",
    "        score = cross_val_score(SVR(kernel='rbf'), X_umap, y_train, cv=5, scoring='r2').mean()\n",
    "        umap_scores.append((n_neighbors, min_dist, score))\n",
    "        print(f\"UMAP - n_neighbors: {n_neighbors}, min_dist: {min_dist}, R²: {score:.3f}\")\n",
    "\n",
    "# Print best results\n",
    "print(\"\\nBest results for each method:\")\n",
    "print(f\"PCA: R² = {max(pca_scores):.3f}\")\n",
    "print(f\"PCA + SVR (optimized): R² = {grid_search.best_score_:.3f}\")\n",
    "print(f\"UMAP: R² = {max(score for _, _, score in umap_scores):.3f}\")"
   ]
  },
  {
   "cell_type": "markdown",
   "id": "18d22d42-5985-4ab2-9d52-f1bfd3467bbc",
   "metadata": {},
   "source": [
    "We can see that fewer components (50) actually gave us better performance (R² = 0.439) compared to using more components. This is often a sign of the model benefiting from dimensionality reduction by removing noise."
   ]
  },
  {
   "cell_type": "code",
   "execution_count": 14,
   "id": "5900f92f-69ce-4b74-9a72-58bb124be7ce",
   "metadata": {},
   "outputs": [
    {
     "name": "stdout",
     "output_type": "stream",
     "text": [
      "Fitting 5 folds for each of 75 candidates, totalling 375 fits\n",
      "\n",
      "Best parameters: {'C': 1, 'epsilon': 0.001, 'gamma': 'scale', 'kernel': 'rbf'}\n",
      "Best CV score: 0.4501178627221819\n",
      "\n",
      "Test set performance:\n",
      "R²: 0.396\n",
      "RMSE: 0.953\n"
     ]
    }
   ],
   "source": [
    "# Use PCA with 50 components (best result)\n",
    "pca = PCA(n_components=50)\n",
    "X_pca = pca.fit_transform(X_train_scaled)\n",
    "\n",
    "# More detailed SVR parameter grid\n",
    "param_grid = {\n",
    "    'C': [0.1, 1, 10, 100, 1000],\n",
    "    'gamma': ['scale', 'auto', 0.1, 0.01, 0.001],\n",
    "    'epsilon': [0.1, 0.01, 0.001],\n",
    "    'kernel': ['rbf']\n",
    "}\n",
    "\n",
    "# Grid search with cross-validation\n",
    "grid_search = GridSearchCV(\n",
    "    SVR(),\n",
    "    param_grid,\n",
    "    cv=5,\n",
    "    scoring='r2',\n",
    "    n_jobs=-1,\n",
    "    verbose=1\n",
    ")\n",
    "\n",
    "grid_search.fit(X_pca, y_train)\n",
    "\n",
    "print(\"\\nBest parameters:\", grid_search.best_params_)\n",
    "print(\"Best CV score:\", grid_search.best_score_)\n",
    "\n",
    "# Evaluate on test set\n",
    "X_test_pca = pca.transform(X_test_scaled)\n",
    "y_pred = grid_search.predict(X_test_pca)\n",
    "test_r2 = r2_score(y_test, y_pred)\n",
    "test_rmse = np.sqrt(mean_squared_error(y_test, y_pred))\n",
    "\n",
    "print(\"\\nTest set performance:\")\n",
    "print(f\"R²: {test_r2:.3f}\")\n",
    "print(f\"RMSE: {test_rmse:.3f}\")"
   ]
  },
  {
   "cell_type": "markdown",
   "id": "fa236810-a114-41b6-bb4b-c8dcbb6fbbd3",
   "metadata": {},
   "source": [
    "Before (Original SVR):\n",
    "\n",
    "R² = 0.317\n",
    "RMSE = 1.013\n",
    "\n",
    "After (PCA + Optimized SVR):\n",
    "\n",
    "R² = 0.415 (31% improvement)\n",
    "RMSE = 0.938 (7.4% improvement)\n",
    "\n",
    "Key findings:\n",
    "\n",
    "50 PCA components were optimal\n",
    "Best SVR parameters:\n",
    "\n",
    "C = 1 (moderate regularization)\n",
    "epsilon = 0.001 (small margin)\n",
    "gamma = 'scale'\n",
    "kernel = 'rbf'"
   ]
  },
  {
   "cell_type": "code",
   "execution_count": 15,
   "id": "48ccbc67-62e5-4007-8f90-b092edb3a212",
   "metadata": {},
   "outputs": [
    {
     "data": {
      "image/png": "[encoded data removed]",
      "text/plain": [
       "<Figure size 600x400 with 1 Axes>"
      ]
     },
     "metadata": {},
     "output_type": "display_data"
    }
   ],
   "source": [
    "# 1. Visualize Predictions vs Actual Values\n",
    "plt.figure(figsize=(6, 4))\n",
    "plt.scatter(y_test, y_pred, alpha=0.5)\n",
    "plt.plot([y_test.min(), y_test.max()], [y_test.min(), y_test.max()], 'r--', lw=2)\n",
    "plt.xlabel('Actual pIC50')\n",
    "plt.ylabel('Predicted pIC50')\n",
    "plt.title('Predicted vs Actual pIC50 Values')\n",
    "plt.grid(True)\n",
    "plt.show()"
   ]
  },
  {
   "cell_type": "code",
   "execution_count": 16,
   "id": "82a302f9-7dca-4afa-82a3-fcdb515a27cc",
   "metadata": {},
   "outputs": [
    {
     "data": {
      "image/png": "[encoded data removed]",
      "text/plain": [
       "<Figure size 1000x600 with 1 Axes>"
      ]
     },
     "metadata": {},
     "output_type": "display_data"
    }
   ],
   "source": [
    "# Calculate residuals\n",
    "residuals = y_test - y_pred\n",
    "plt.figure(figsize=(10, 6))\n",
    "plt.scatter(y_pred, residuals, alpha=0.5)\n",
    "plt.axhline(y=0, color='r', linestyle='--')\n",
    "plt.xlabel('Predicted pIC50')\n",
    "plt.ylabel('Residuals')\n",
    "plt.title('Residual Plot')\n",
    "plt.grid(True)\n",
    "plt.show()"
   ]
  },
  {
   "cell_type": "markdown",
   "id": "f1109a33-32bd-4bc2-867a-796f85d3a590",
   "metadata": {},
   "source": [
    "#### Model Validation and Final Testing"
   ]
  },
  {
   "cell_type": "code",
   "execution_count": 17,
   "id": "548b4eb9-addc-4818-a18f-96e01cafc332",
   "metadata": {},
   "outputs": [
    {
     "name": "stdout",
     "output_type": "stream",
     "text": [
      "\n",
      "Final Model Performance Metrics:\n",
      "R² Score: 0.396\n",
      "RMSE: 0.953\n",
      "MAE: 0.590\n"
     ]
    }
   ],
   "source": [
    "# Final model evaluation metrics\n",
    "print(\"\\nFinal Model Performance Metrics:\")\n",
    "print(f\"R² Score: {r2_score(y_test, y_pred):.3f}\")\n",
    "print(f\"RMSE: {np.sqrt(mean_squared_error(y_test, y_pred)):.3f}\")\n",
    "print(f\"MAE: {mean_absolute_error(y_test, y_pred):.3f}\")"
   ]
  },
  {
   "cell_type": "code",
   "execution_count": 18,
   "id": "2392af06-bd02-4346-8304-830795d3739d",
   "metadata": {},
   "outputs": [
    {
     "name": "stdout",
     "output_type": "stream",
     "text": [
      "\n",
      "Prediction Interval (±): 1.156\n"
     ]
    }
   ],
   "source": [
    "# Calculate prediction intervals (95% confidence)\n",
    "mae = mean_absolute_error(y_test, y_pred)\n",
    "confidence_interval = 1.96 * mae\n",
    "print(f\"\\nPrediction Interval (±): {confidence_interval:.3f}\")"
   ]
  },
  {
   "cell_type": "code",
   "execution_count": 19,
   "id": "944dd1aa-1ca9-42e4-960a-438a3d5ae087",
   "metadata": {},
   "outputs": [
    {
     "name": "stdout",
     "output_type": "stream",
     "text": [
      "\n",
      "Performance by Activity Range:\n",
      "\n",
      "Range (1.04, 4.766]:\n",
      "R²: -2.146\n",
      "RMSE: 1.398\n",
      "\n",
      "Range (4.766, 5.592]:\n",
      "R²: -1.287\n",
      "RMSE: 0.305\n",
      "\n",
      "Range (5.592, 8.523]:\n",
      "R²: 0.009\n",
      "RMSE: 0.804\n"
     ]
    },
    {
     "name": "stderr",
     "output_type": "stream",
     "text": [
      "C:\\Users\\Promise Sunday\\AppData\\Local\\Temp\\ipykernel_17676\\1110744364.py:10: FutureWarning: The default of observed=False is deprecated and will be changed to True in a future version of pandas. Pass observed=False to retain current behavior or observed=True to adopt the future default and silence this warning.\n",
      "  for name, group in performance_by_range.groupby('Range'):\n"
     ]
    }
   ],
   "source": [
    "# Performance in different activity ranges\n",
    "bins = pd.qcut(y_test, q=3)\n",
    "performance_by_range = pd.DataFrame({\n",
    "   'Actual': y_test,\n",
    "   'Predicted': y_pred,\n",
    "   'Range': bins\n",
    "})\n",
    "\n",
    "print(\"\\nPerformance by Activity Range:\")\n",
    "for name, group in performance_by_range.groupby('Range'):\n",
    "   r2 = r2_score(group['Actual'], group['Predicted'])\n",
    "   rmse = np.sqrt(mean_squared_error(group['Actual'], group['Predicted']))\n",
    "   print(f\"\\nRange {name}:\")\n",
    "   print(f\"R²: {r2:.3f}\")\n",
    "   print(f\"RMSE: {rmse:.3f}\")"
   ]
  },
  {
   "cell_type": "markdown",
   "id": "f25db0d4-24b6-4c8c-ad1b-cc24e472a59c",
   "metadata": {},
   "source": [
    "#### Y-scrambling (Randomization test)"
   ]
  },
  {
   "cell_type": "code",
   "execution_count": 20,
   "id": "13fc0175-3706-4448-89a7-355b9d4e254c",
   "metadata": {},
   "outputs": [],
   "source": [
    "# Y-scrambling validation test\n",
    "def y_scrambling(X, y, n_trials=100):\n",
    "    # Our actual model performance\n",
    "    base_score = r2_score(y_test, y_pred)\n",
    "    random_scores = []\n",
    "    \n",
    "    print(\"Performing Y-scrambling test...\")\n",
    "    for i in range(n_trials):\n",
    "        # Shuffle y values randomly\n",
    "        y_random = np.random.permutation(y)\n",
    "        \n",
    "        # Split data\n",
    "        X_train_random, X_test_random, y_train_random, y_test_random = train_test_split(\n",
    "            X, y_random, test_size=0.2, random_state=i)\n",
    "        \n",
    "        # Apply PCA (using our optimal 50 components)\n",
    "        pca = PCA(n_components=50)\n",
    "        X_train_pca = pca.fit_transform(X_train_random)\n",
    "        X_test_pca = pca.transform(X_test_random)\n",
    "        \n",
    "        # Train model with best parameters\n",
    "        svr = SVR(C=1, epsilon=0.001, gamma='scale', kernel='rbf')\n",
    "        svr.fit(X_train_pca, y_train_random)\n",
    "        \n",
    "        # Get score\n",
    "        y_pred_random = svr.predict(X_test_pca)\n",
    "        score = r2_score(y_test_random, y_pred_random)\n",
    "        random_scores.append(score)\n",
    "        \n",
    "        if (i + 1) % 10 == 0:\n",
    "            print(f\"Completed {i + 1} trials\")\n",
    "    \n",
    "    # Print results\n",
    "    print(\"\\nY-scrambling Results:\")\n",
    "    print(f\"Actual Model R²: {base_score:.3f}\")\n",
    "    print(f\"Random Models R² (mean): {np.mean(random_scores):.3f}\")\n",
    "    print(f\"Random Models R² (std): {np.std(random_scores):.3f}\")\n",
    "    \n",
    "    # Plot distribution of random scores\n",
    "    plt.figure(figsize=(10, 6))\n",
    "    plt.hist(random_scores, bins=20, alpha=0.5, color='blue')\n",
    "    plt.axvline(base_score, color='red', linestyle='--', label='Actual Model R²')\n",
    "    plt.xlabel('R² Score')\n",
    "    plt.ylabel('Frequency')\n",
    "    plt.title('Distribution of Y-scrambling R² Scores')\n",
    "    plt.legend()\n",
    "    plt.show()"
   ]
  },
  {
   "cell_type": "code",
   "execution_count": 21,
   "id": "fbc03425-5c73-4913-b73d-0b0a09e6df78",
   "metadata": {},
   "outputs": [
    {
     "name": "stdout",
     "output_type": "stream",
     "text": [
      "Performing Y-scrambling test...\n",
      "Completed 10 trials\n",
      "Completed 20 trials\n",
      "Completed 30 trials\n",
      "Completed 40 trials\n",
      "Completed 50 trials\n",
      "Completed 60 trials\n",
      "Completed 70 trials\n",
      "Completed 80 trials\n",
      "Completed 90 trials\n",
      "Completed 100 trials\n",
      "\n",
      "Y-scrambling Results:\n",
      "Actual Model R²: 0.396\n",
      "Random Models R² (mean): -0.118\n",
      "Random Models R² (std): 0.085\n"
     ]
    },
    {
     "data": {
      "image/png": "[encoded data removed]",
      "text/plain": [
       "<Figure size 1000x600 with 1 Axes>"
      ]
     },
     "metadata": {},
     "output_type": "display_data"
    }
   ],
   "source": [
    "# Run Y-scrambling\n",
    "y_scrambling(X_train_scaled, y_train)"
   ]
  },
  {
   "cell_type": "code",
   "execution_count": null,
   "id": "937f1ce4-c49e-4b67-ba4a-98a5c8e51fc8",
   "metadata": {},
   "outputs": [],
   "source": []
  },
  {
   "cell_type": "markdown",
   "id": "69c3bb0b-b7fc-47e1-997d-4c08b7c7780e",
   "metadata": {},
   "source": [
    "#### Save the Model"
   ]
  },
  {
   "cell_type": "code",
   "execution_count": 23,
   "id": "a776e6cd-0241-4e91-9ae6-e7c037bc5b3e",
   "metadata": {},
   "outputs": [
    {
     "name": "stdout",
     "output_type": "stream",
     "text": [
      "Model saved successfully as 'inha_qsar_model.pkl'\n",
      "Model loaded successfully!\n"
     ]
    }
   ],
   "source": [
    "import pickle\n",
    "\n",
    "# Create a dictionary containing all necessary components\n",
    "model_components = {\n",
    "    'pca': pca,                      # PCA model\n",
    "    'scaler': scaler,                # StandardScaler\n",
    "    'model': grid_search.best_estimator_,  # Best SVR model\n",
    "    'feature_names': feature_columns  # Feature names for reference\n",
    "}\n",
    "\n",
    "# Save the model components\n",
    "with open('inha_qsar_model.pkl', 'wb') as f:\n",
    "    pickle.dump(model_components, f)\n",
    "\n",
    "print(\"Model saved successfully as 'inha_qsar_model.pkl'\")\n",
    "\n",
    "# Example of how to load and use the model (useful for Streamlit implementation)\n",
    "def load_model(filename='inha_qsar_model.pkl'):\n",
    "    with open(filename, 'rb') as f:\n",
    "        return pickle.load(f)\n",
    "\n",
    "# Test loading\n",
    "model_components = load_model()\n",
    "print(\"Model loaded successfully!\")"
   ]
  },
  {
   "cell_type": "code",
   "execution_count": null,
   "id": "f7fa8763-c9bb-40a2-aa55-475375950850",
   "metadata": {},
   "outputs": [],
   "source": []
  },
  {
   "cell_type": "code",
   "execution_count": null,
   "id": "d6860b2b-002f-4dc8-8a83-0fbdec676c13",
   "metadata": {},
   "outputs": [],
   "source": []
  },
  {
   "cell_type": "code",
   "execution_count": null,
   "id": "e1c28387-c87a-4c89-8179-e79140a495d6",
   "metadata": {},
   "outputs": [],
   "source": []
  },
  {
   "cell_type": "code",
   "execution_count": null,
   "id": "859e02ef-3573-4480-abf5-3ff1756fa96f",
   "metadata": {},
   "outputs": [],
   "source": []
  }
 ],
 "metadata": {
  "kernelspec": {
   "display_name": "Python 3 (ipykernel)",
   "language": "python",
   "name": "python3"
  },
  "language_info": {
   "codemirror_mode": {
    "name": "ipython",
    "version": 3
   },
   "file_extension": ".py",
   "mimetype": "text/x-python",
   "name": "python",
   "nbconvert_exporter": "python",
   "pygments_lexer": "ipython3",
   "version": "3.12.8"
  }
 },
 "nbformat": 4,
 "nbformat_minor": 5
}
