{
 "cells": [
  {
   "cell_type": "code",
   "execution_count": null,
   "id": "fa5444d1-5b4d-4566-be1f-d021b8b3a9b1",
   "metadata": {},
   "outputs": [],
   "source": []
  },
  {
   "cell_type": "code",
   "execution_count": 2,
   "id": "3e8ea4d5-a44a-468a-9d24-323f2c192ddf",
   "metadata": {},
   "outputs": [],
   "source": [
    "# Importing Essential libraries\n",
    "import pandas as pd\n",
    "import numpy as np\n",
    "from chembl_webresource_client.new_client import new_client\n",
    "import time\n",
    "from tqdm.notebook import tqdm  # For progress bars"
   ]
  },
  {
   "cell_type": "markdown",
   "id": "91f34750-6354-4417-bd10-4eacc00659e9",
   "metadata": {},
   "source": [
    "#### Let's first search for our target protein in ChEMBL"
   ]
  },
  {
   "cell_type": "code",
   "execution_count": 3,
   "id": "9941abbd-fd6b-4d40-b15b-3c30f916c65e",
   "metadata": {},
   "outputs": [
    {
     "name": "stdout",
     "output_type": "stream",
     "text": [
      "Number of targets found: 116\n"
     ]
    },
    {
     "data": {
      "text/html": [
       "<div>\n",
       "<style scoped>\n",
       "    .dataframe tbody tr th:only-of-type {\n",
       "        vertical-align: middle;\n",
       "    }\n",
       "\n",
       "    .dataframe tbody tr th {\n",
       "        vertical-align: top;\n",
       "    }\n",
       "\n",
       "    .dataframe thead th {\n",
       "        text-align: right;\n",
       "    }\n",
       "</style>\n",
       "<table border=\"1\" class=\"dataframe\">\n",
       "  <thead>\n",
       "    <tr style=\"text-align: right;\">\n",
       "      <th></th>\n",
       "      <th>target_chembl_id</th>\n",
       "      <th>organism</th>\n",
       "      <th>target_type</th>\n",
       "      <th>pref_name</th>\n",
       "    </tr>\n",
       "  </thead>\n",
       "  <tbody>\n",
       "    <tr>\n",
       "      <th>0</th>\n",
       "      <td>CHEMBL360</td>\n",
       "      <td>Mycobacterium tuberculosis</td>\n",
       "      <td>ORGANISM</td>\n",
       "      <td>Mycobacterium tuberculosis</td>\n",
       "    </tr>\n",
       "    <tr>\n",
       "      <th>1</th>\n",
       "      <td>CHEMBL2111188</td>\n",
       "      <td>Mycobacterium tuberculosis H37Rv</td>\n",
       "      <td>ORGANISM</td>\n",
       "      <td>Mycobacterium tuberculosis H37Rv</td>\n",
       "    </tr>\n",
       "    <tr>\n",
       "      <th>2</th>\n",
       "      <td>CHEMBL613086</td>\n",
       "      <td>Mycobacterium tuberculosis variant bovis</td>\n",
       "      <td>ORGANISM</td>\n",
       "      <td>Mycobacterium tuberculosis variant bovis</td>\n",
       "    </tr>\n",
       "    <tr>\n",
       "      <th>3</th>\n",
       "      <td>CHEMBL612960</td>\n",
       "      <td>Mycobacterium tuberculosis variant microti</td>\n",
       "      <td>ORGANISM</td>\n",
       "      <td>Mycobacterium tuberculosis variant microti</td>\n",
       "    </tr>\n",
       "    <tr>\n",
       "      <th>4</th>\n",
       "      <td>CHEMBL615052</td>\n",
       "      <td>Mycobacterium tuberculosis variant bovis BCG</td>\n",
       "      <td>ORGANISM</td>\n",
       "      <td>Mycobacterium tuberculosis variant bovis BCG</td>\n",
       "    </tr>\n",
       "  </tbody>\n",
       "</table>\n",
       "</div>"
      ],
      "text/plain": [
       "  target_chembl_id                                      organism target_type  \\\n",
       "0        CHEMBL360                    Mycobacterium tuberculosis    ORGANISM   \n",
       "1    CHEMBL2111188              Mycobacterium tuberculosis H37Rv    ORGANISM   \n",
       "2     CHEMBL613086      Mycobacterium tuberculosis variant bovis    ORGANISM   \n",
       "3     CHEMBL612960    Mycobacterium tuberculosis variant microti    ORGANISM   \n",
       "4     CHEMBL615052  Mycobacterium tuberculosis variant bovis BCG    ORGANISM   \n",
       "\n",
       "                                      pref_name  \n",
       "0                    Mycobacterium tuberculosis  \n",
       "1              Mycobacterium tuberculosis H37Rv  \n",
       "2      Mycobacterium tuberculosis variant bovis  \n",
       "3    Mycobacterium tuberculosis variant microti  \n",
       "4  Mycobacterium tuberculosis variant bovis BCG  "
      ]
     },
     "execution_count": 3,
     "metadata": {},
     "output_type": "execute_result"
    }
   ],
   "source": [
    "# Initialize ChEMBL client\n",
    "target = new_client.target\n",
    "\n",
    "# Search for Mycobacterium tuberculosis targets\n",
    "targets = target.search('Mycobacterium tuberculosis')\n",
    "targets_df = pd.DataFrame.from_dict(targets)\n",
    "\n",
    "# Display first few rows of our targets\n",
    "print(\"Number of targets found:\", len(targets_df))\n",
    "targets_df[['target_chembl_id', 'organism', 'target_type', 'pref_name']].head()"
   ]
  },
  {
   "cell_type": "markdown",
   "id": "8a48fbd1-96c1-4c7f-8079-14b874a28088",
   "metadata": {},
   "source": [
    "### Get bioactivity data for a specific target"
   ]
  },
  {
   "cell_type": "code",
   "execution_count": 7,
   "id": "9b27dfdf-3bcb-4746-9a32-cfbee5b4215f",
   "metadata": {},
   "outputs": [],
   "source": [
    "def get_bioactivity_data(target_chembl_id):\n",
    "    \"\"\"\n",
    "    Retrieve bioactivity data for a specific target from ChEMBL\n",
    "    \"\"\"\n",
    "    # Initialize activity client\n",
    "    activity = new_client.activity\n",
    "    \n",
    "    # Get activities for target\n",
    "    activities = activity.filter(\n",
    "        target_chembl_id=target_chembl_id,\n",
    "        standard_type=\"IC50\" \n",
    "    )\n",
    "    \n",
    "    # Convert to DataFrame\n",
    "    df = pd.DataFrame.from_dict(activities)\n",
    "    \n",
    "    return df"
   ]
  },
  {
   "cell_type": "code",
   "execution_count": 8,
   "id": "f64524d9-4e25-4ab2-a1a7-87a773c39afd",
   "metadata": {},
   "outputs": [],
   "source": [
    "df = get_bioactivity_data(\"CHEMBL360\")"
   ]
  },
  {
   "cell_type": "code",
   "execution_count": 9,
   "id": "045f8c33-df3b-41ed-a55b-3886145fe429",
   "metadata": {},
   "outputs": [],
   "source": [
    "def clean_bioactivity_data(df):\n",
    "    \"\"\"\n",
    "    Clean and process bioactivity data\n",
    "    \n",
    "    Parameters:\n",
    "    df (pandas.DataFrame): Raw bioactivity data\n",
    "    \n",
    "    Returns:\n",
    "    pandas.DataFrame: Cleaned bioactivity data\n",
    "    \"\"\"\n",
    "    # Select relevant columns\n",
    "    selected_columns = [\n",
    "        'molecule_chembl_id',\n",
    "        'canonical_smiles',\n",
    "        'standard_type',\n",
    "        'standard_value',\n",
    "        'standard_units',\n",
    "        'standard_relation',\n",
    "        'assay_type',\n",
    "        'assay_description'\n",
    "    ]\n",
    "    \n",
    "    df_clean = df[selected_columns].copy()\n",
    "    \n",
    "    # Remove entries without SMILES or IC50 values\n",
    "    df_clean = df_clean.dropna(subset=['canonical_smiles', 'standard_value'])\n",
    "    \n",
    "    # Convert IC50 to nM if in other units\n",
    "    mask_micromolar = df_clean['standard_units'] == 'uM'\n",
    "    df_clean.loc[mask_micromolar, 'standard_value'] *= 1000\n",
    "    \n",
    "    # Add pIC50 column (-log10(IC50[M]))\n",
    "    df_clean['pIC50'] = -np.log10(df_clean['standard_value'] * 1e-9)  # Convert nM to M\n",
    "    \n",
    "    return df_clean"
   ]
  },
  {
   "cell_type": "code",
   "execution_count": 10,
   "id": "46c91f40-30be-4cb5-8a24-ca5122942124",
   "metadata": {},
   "outputs": [],
   "source": [
    "def prepare_final_dataset(chembl_data, save_path='tb_dataset.csv'):\n",
    "    \"\"\"\n",
    "    Prepare final dataset combining ChEMBL data with additional filters\n",
    "    \n",
    "    Parameters:\n",
    "    chembl_data (pandas.DataFrame): Cleaned ChEMBL bioactivity data\n",
    "    save_path (str): Path to save the final dataset\n",
    "    \n",
    "    Returns:\n",
    "    pandas.DataFrame: Final processed dataset\n",
    "    \"\"\"\n",
    "    # Additional filtering criteria\n",
    "    df_final = chembl_data.copy()\n",
    "    \n",
    "    # Remove duplicates, keeping entry with median pIC50 if multiple exists\n",
    "    df_final = df_final.groupby('canonical_smiles').agg({\n",
    "        'pIC50': 'median',\n",
    "        'molecule_chembl_id': 'first',\n",
    "        'standard_relation': 'first',\n",
    "        'assay_type': 'first',\n",
    "        'assay_description': 'first'\n",
    "    }).reset_index()\n",
    "    \n",
    "    # Save to CSV\n",
    "    df_final.to_csv(save_path, index=False)\n",
    "    \n",
    "    return df_final"
   ]
  },
  {
   "cell_type": "code",
   "execution_count": 11,
   "id": "8a5783e5-d185-44f6-b48e-6e60dfb8b52f",
   "metadata": {},
   "outputs": [
    {
     "name": "stdout",
     "output_type": "stream",
     "text": [
      "Fetching bioactivity data...\n",
      "Retrieved 0 bioactivity entries\n",
      "\n",
      "Cleaning and processing data...\n"
     ]
    },
    {
     "ename": "KeyError",
     "evalue": "\"None of [Index(['molecule_chembl_id', 'canonical_smiles', 'standard_type',\\n       'standard_value', 'standard_units', 'standard_relation', 'assay_type',\\n       'assay_description'],\\n      dtype='object')] are in the [columns]\"",
     "output_type": "error",
     "traceback": [
      "\u001b[1;31m---------------------------------------------------------------------------\u001b[0m",
      "\u001b[1;31mKeyError\u001b[0m                                  Traceback (most recent call last)",
      "Cell \u001b[1;32mIn[11], line 26\u001b[0m\n\u001b[0;32m     23\u001b[0m     \u001b[38;5;28mprint\u001b[39m(\u001b[38;5;124mf\u001b[39m\u001b[38;5;124m\"\u001b[39m\u001b[38;5;124mpIC50 mean ± std: \u001b[39m\u001b[38;5;132;01m{\u001b[39;00mfinal_dataset[\u001b[38;5;124m'\u001b[39m\u001b[38;5;124mpIC50\u001b[39m\u001b[38;5;124m'\u001b[39m]\u001b[38;5;241m.\u001b[39mmean()\u001b[38;5;132;01m:\u001b[39;00m\u001b[38;5;124m.2f\u001b[39m\u001b[38;5;132;01m}\u001b[39;00m\u001b[38;5;124m ± \u001b[39m\u001b[38;5;132;01m{\u001b[39;00mfinal_dataset[\u001b[38;5;124m'\u001b[39m\u001b[38;5;124mpIC50\u001b[39m\u001b[38;5;124m'\u001b[39m]\u001b[38;5;241m.\u001b[39mstd()\u001b[38;5;132;01m:\u001b[39;00m\u001b[38;5;124m.2f\u001b[39m\u001b[38;5;132;01m}\u001b[39;00m\u001b[38;5;124m\"\u001b[39m)\n\u001b[0;32m     25\u001b[0m \u001b[38;5;28;01mif\u001b[39;00m \u001b[38;5;18m__name__\u001b[39m \u001b[38;5;241m==\u001b[39m \u001b[38;5;124m\"\u001b[39m\u001b[38;5;124m__main__\u001b[39m\u001b[38;5;124m\"\u001b[39m:\n\u001b[1;32m---> 26\u001b[0m     \u001b[43mmain\u001b[49m\u001b[43m(\u001b[49m\u001b[43m)\u001b[49m\n",
      "Cell \u001b[1;32mIn[11], line 12\u001b[0m, in \u001b[0;36mmain\u001b[1;34m()\u001b[0m\n\u001b[0;32m     10\u001b[0m \u001b[38;5;66;03m# 3. Clean the data\u001b[39;00m\n\u001b[0;32m     11\u001b[0m \u001b[38;5;28mprint\u001b[39m(\u001b[38;5;124m\"\u001b[39m\u001b[38;5;130;01m\\n\u001b[39;00m\u001b[38;5;124mCleaning and processing data...\u001b[39m\u001b[38;5;124m\"\u001b[39m)\n\u001b[1;32m---> 12\u001b[0m cleaned_data \u001b[38;5;241m=\u001b[39m \u001b[43mclean_bioactivity_data\u001b[49m\u001b[43m(\u001b[49m\u001b[43mbioactivity_data\u001b[49m\u001b[43m)\u001b[49m\n\u001b[0;32m     13\u001b[0m \u001b[38;5;28mprint\u001b[39m(\u001b[38;5;124mf\u001b[39m\u001b[38;5;124m\"\u001b[39m\u001b[38;5;124mCleaned dataset contains \u001b[39m\u001b[38;5;132;01m{\u001b[39;00m\u001b[38;5;28mlen\u001b[39m(cleaned_data)\u001b[38;5;132;01m}\u001b[39;00m\u001b[38;5;124m entries\u001b[39m\u001b[38;5;124m\"\u001b[39m)\n\u001b[0;32m     15\u001b[0m \u001b[38;5;66;03m# 4. Prepare final dataset\u001b[39;00m\n",
      "Cell \u001b[1;32mIn[9], line 23\u001b[0m, in \u001b[0;36mclean_bioactivity_data\u001b[1;34m(df)\u001b[0m\n\u001b[0;32m     11\u001b[0m \u001b[38;5;66;03m# Select relevant columns\u001b[39;00m\n\u001b[0;32m     12\u001b[0m selected_columns \u001b[38;5;241m=\u001b[39m [\n\u001b[0;32m     13\u001b[0m     \u001b[38;5;124m'\u001b[39m\u001b[38;5;124mmolecule_chembl_id\u001b[39m\u001b[38;5;124m'\u001b[39m,\n\u001b[0;32m     14\u001b[0m     \u001b[38;5;124m'\u001b[39m\u001b[38;5;124mcanonical_smiles\u001b[39m\u001b[38;5;124m'\u001b[39m,\n\u001b[1;32m   (...)\u001b[0m\n\u001b[0;32m     20\u001b[0m     \u001b[38;5;124m'\u001b[39m\u001b[38;5;124massay_description\u001b[39m\u001b[38;5;124m'\u001b[39m\n\u001b[0;32m     21\u001b[0m ]\n\u001b[1;32m---> 23\u001b[0m df_clean \u001b[38;5;241m=\u001b[39m \u001b[43mdf\u001b[49m\u001b[43m[\u001b[49m\u001b[43mselected_columns\u001b[49m\u001b[43m]\u001b[49m\u001b[38;5;241m.\u001b[39mcopy()\n\u001b[0;32m     25\u001b[0m \u001b[38;5;66;03m# Remove entries without SMILES or IC50 values\u001b[39;00m\n\u001b[0;32m     26\u001b[0m df_clean \u001b[38;5;241m=\u001b[39m df_clean\u001b[38;5;241m.\u001b[39mdropna(subset\u001b[38;5;241m=\u001b[39m[\u001b[38;5;124m'\u001b[39m\u001b[38;5;124mcanonical_smiles\u001b[39m\u001b[38;5;124m'\u001b[39m, \u001b[38;5;124m'\u001b[39m\u001b[38;5;124mstandard_value\u001b[39m\u001b[38;5;124m'\u001b[39m])\n",
      "File \u001b[1;32m~\\AppData\\Local\\Programs\\Python\\Python312\\Lib\\site-packages\\pandas\\core\\frame.py:3899\u001b[0m, in \u001b[0;36mDataFrame.__getitem__\u001b[1;34m(self, key)\u001b[0m\n\u001b[0;32m   3897\u001b[0m     \u001b[38;5;28;01mif\u001b[39;00m is_iterator(key):\n\u001b[0;32m   3898\u001b[0m         key \u001b[38;5;241m=\u001b[39m \u001b[38;5;28mlist\u001b[39m(key)\n\u001b[1;32m-> 3899\u001b[0m     indexer \u001b[38;5;241m=\u001b[39m \u001b[38;5;28;43mself\u001b[39;49m\u001b[38;5;241;43m.\u001b[39;49m\u001b[43mcolumns\u001b[49m\u001b[38;5;241;43m.\u001b[39;49m\u001b[43m_get_indexer_strict\u001b[49m\u001b[43m(\u001b[49m\u001b[43mkey\u001b[49m\u001b[43m,\u001b[49m\u001b[43m \u001b[49m\u001b[38;5;124;43m\"\u001b[39;49m\u001b[38;5;124;43mcolumns\u001b[39;49m\u001b[38;5;124;43m\"\u001b[39;49m\u001b[43m)\u001b[49m[\u001b[38;5;241m1\u001b[39m]\n\u001b[0;32m   3901\u001b[0m \u001b[38;5;66;03m# take() does not accept boolean indexers\u001b[39;00m\n\u001b[0;32m   3902\u001b[0m \u001b[38;5;28;01mif\u001b[39;00m \u001b[38;5;28mgetattr\u001b[39m(indexer, \u001b[38;5;124m\"\u001b[39m\u001b[38;5;124mdtype\u001b[39m\u001b[38;5;124m\"\u001b[39m, \u001b[38;5;28;01mNone\u001b[39;00m) \u001b[38;5;241m==\u001b[39m \u001b[38;5;28mbool\u001b[39m:\n",
      "File \u001b[1;32m~\\AppData\\Local\\Programs\\Python\\Python312\\Lib\\site-packages\\pandas\\core\\indexes\\base.py:6114\u001b[0m, in \u001b[0;36mIndex._get_indexer_strict\u001b[1;34m(self, key, axis_name)\u001b[0m\n\u001b[0;32m   6111\u001b[0m \u001b[38;5;28;01melse\u001b[39;00m:\n\u001b[0;32m   6112\u001b[0m     keyarr, indexer, new_indexer \u001b[38;5;241m=\u001b[39m \u001b[38;5;28mself\u001b[39m\u001b[38;5;241m.\u001b[39m_reindex_non_unique(keyarr)\n\u001b[1;32m-> 6114\u001b[0m \u001b[38;5;28;43mself\u001b[39;49m\u001b[38;5;241;43m.\u001b[39;49m\u001b[43m_raise_if_missing\u001b[49m\u001b[43m(\u001b[49m\u001b[43mkeyarr\u001b[49m\u001b[43m,\u001b[49m\u001b[43m \u001b[49m\u001b[43mindexer\u001b[49m\u001b[43m,\u001b[49m\u001b[43m \u001b[49m\u001b[43maxis_name\u001b[49m\u001b[43m)\u001b[49m\n\u001b[0;32m   6116\u001b[0m keyarr \u001b[38;5;241m=\u001b[39m \u001b[38;5;28mself\u001b[39m\u001b[38;5;241m.\u001b[39mtake(indexer)\n\u001b[0;32m   6117\u001b[0m \u001b[38;5;28;01mif\u001b[39;00m \u001b[38;5;28misinstance\u001b[39m(key, Index):\n\u001b[0;32m   6118\u001b[0m     \u001b[38;5;66;03m# GH 42790 - Preserve name from an Index\u001b[39;00m\n",
      "File \u001b[1;32m~\\AppData\\Local\\Programs\\Python\\Python312\\Lib\\site-packages\\pandas\\core\\indexes\\base.py:6175\u001b[0m, in \u001b[0;36mIndex._raise_if_missing\u001b[1;34m(self, key, indexer, axis_name)\u001b[0m\n\u001b[0;32m   6173\u001b[0m     \u001b[38;5;28;01mif\u001b[39;00m use_interval_msg:\n\u001b[0;32m   6174\u001b[0m         key \u001b[38;5;241m=\u001b[39m \u001b[38;5;28mlist\u001b[39m(key)\n\u001b[1;32m-> 6175\u001b[0m     \u001b[38;5;28;01mraise\u001b[39;00m \u001b[38;5;167;01mKeyError\u001b[39;00m(\u001b[38;5;124mf\u001b[39m\u001b[38;5;124m\"\u001b[39m\u001b[38;5;124mNone of [\u001b[39m\u001b[38;5;132;01m{\u001b[39;00mkey\u001b[38;5;132;01m}\u001b[39;00m\u001b[38;5;124m] are in the [\u001b[39m\u001b[38;5;132;01m{\u001b[39;00maxis_name\u001b[38;5;132;01m}\u001b[39;00m\u001b[38;5;124m]\u001b[39m\u001b[38;5;124m\"\u001b[39m)\n\u001b[0;32m   6177\u001b[0m not_found \u001b[38;5;241m=\u001b[39m \u001b[38;5;28mlist\u001b[39m(ensure_index(key)[missing_mask\u001b[38;5;241m.\u001b[39mnonzero()[\u001b[38;5;241m0\u001b[39m]]\u001b[38;5;241m.\u001b[39munique())\n\u001b[0;32m   6178\u001b[0m \u001b[38;5;28;01mraise\u001b[39;00m \u001b[38;5;167;01mKeyError\u001b[39;00m(\u001b[38;5;124mf\u001b[39m\u001b[38;5;124m\"\u001b[39m\u001b[38;5;132;01m{\u001b[39;00mnot_found\u001b[38;5;132;01m}\u001b[39;00m\u001b[38;5;124m not in index\u001b[39m\u001b[38;5;124m\"\u001b[39m)\n",
      "\u001b[1;31mKeyError\u001b[0m: \"None of [Index(['molecule_chembl_id', 'canonical_smiles', 'standard_type',\\n       'standard_value', 'standard_units', 'standard_relation', 'assay_type',\\n       'assay_description'],\\n      dtype='object')] are in the [columns]\""
     ]
    }
   ],
   "source": [
    "def main():\n",
    "    # 1. Choose your target (example with InhA, a known TB drug target)\n",
    "    target_chembl_id = 'CHEMBL2366516'  # Replace with your chosen target\n",
    "    \n",
    "    # 2. Get bioactivity data\n",
    "    print(\"Fetching bioactivity data...\")\n",
    "    bioactivity_data = get_bioactivity_data(target_chembl_id)\n",
    "    print(f\"Retrieved {len(bioactivity_data)} bioactivity entries\")\n",
    "    \n",
    "    # 3. Clean the data\n",
    "    print(\"\\nCleaning and processing data...\")\n",
    "    cleaned_data = clean_bioactivity_data(bioactivity_data)\n",
    "    print(f\"Cleaned dataset contains {len(cleaned_data)} entries\")\n",
    "    \n",
    "    # 4. Prepare final dataset\n",
    "    print(\"\\nPreparing final dataset...\")\n",
    "    final_dataset = prepare_final_dataset(cleaned_data)\n",
    "    print(f\"Final dataset contains {len(final_dataset)} unique compounds\")\n",
    "    \n",
    "    # 5. Basic statistics\n",
    "    print(\"\\nDataset statistics:\")\n",
    "    print(f\"pIC50 range: {final_dataset['pIC50'].min():.2f} - {final_dataset['pIC50'].max():.2f}\")\n",
    "    print(f\"pIC50 mean ± std: {final_dataset['pIC50'].mean():.2f} ± {final_dataset['pIC50'].std():.2f}\")\n",
    "\n",
    "if __name__ == \"__main__\":\n",
    "    main()"
   ]
  },
  {
   "cell_type": "code",
   "execution_count": null,
   "id": "e9db2597-b206-4287-aeed-42da4dd9b536",
   "metadata": {},
   "outputs": [],
   "source": []
  },
  {
   "cell_type": "code",
   "execution_count": null,
   "id": "b8a37e5b-da3b-4206-a7aa-2d1c6c00a451",
   "metadata": {},
   "outputs": [],
   "source": []
  }
 ],
 "metadata": {
  "kernelspec": {
   "display_name": "Python 3 (ipykernel)",
   "language": "python",
   "name": "python3"
  },
  "language_info": {
   "codemirror_mode": {
    "name": "ipython",
    "version": 3
   },
   "file_extension": ".py",
   "mimetype": "text/x-python",
   "name": "python",
   "nbconvert_exporter": "python",
   "pygments_lexer": "ipython3",
   "version": "3.12.8"
  }
 },
 "nbformat": 4,
 "nbformat_minor": 5
}
